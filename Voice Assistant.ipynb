{
 "cells": [
  {
   "cell_type": "code",
   "execution_count": 3,
   "id": "21e2ee9f-91c4-4fd6-ab04-9b14480bf92c",
   "metadata": {},
   "outputs": [],
   "source": [
    "import speech_recognition as sr\n",
    "import pyttsx3\n",
    "import datetime\n",
    "import wikipedia\n",
    "import webbrowser\n",
    "import os\n",
    "import pyjokes"
   ]
  },
  {
   "cell_type": "code",
   "execution_count": 4,
   "id": "69e01486-cd29-4125-8683-bd1736891fb9",
   "metadata": {},
   "outputs": [],
   "source": [
    "def speak(text):\n",
    "    print(f\"Assistant: {text}\")\n",
    "    try:\n",
    "        engine = pyttsx3.init()\n",
    "        engine.say(text)\n",
    "        engine.runAndWait()\n",
    "    except:\n",
    "        print(\"Speech output not supported in Colab.\")"
   ]
  },
  {
   "cell_type": "code",
   "execution_count": 9,
   "id": "afb58e8b-2089-4200-a745-b7457ae68ba3",
   "metadata": {},
   "outputs": [],
   "source": [
    "def wish_user():\n",
    "    hour = int(datetime.datetime.now().hour)\n",
    "    if hour < 12:\n",
    "        speak(\" Hello! Good Morning!\")\n",
    "    elif hour < 18:\n",
    "        speak(\"Hello! Good Afternoon!\")\n",
    "    else:\n",
    "        speak(\"Hello! Good Evening!\")\n",
    "    speak(\"I am your voice assistant. How can I help you today?\")"
   ]
  },
  {
   "cell_type": "code",
   "execution_count": 10,
   "id": "b959e117-d158-4583-96f4-91d919dfa989",
   "metadata": {},
   "outputs": [],
   "source": [
    "def take_command():\n",
    "    return input(\"You (type your command): \").lower()"
   ]
  },
  {
   "cell_type": "code",
   "execution_count": 21,
   "id": "57d60427-f163-4728-a2e4-873de9b8acc9",
   "metadata": {},
   "outputs": [],
   "source": [
    "def run_assistant():\n",
    "    wish_user()\n",
    "    while True:\n",
    "        query = take_command()\n",
    "\n",
    "        if 'wikipedia' in query:\n",
    "            speak(\"Searching Wikipedia...\")\n",
    "            query = query.replace(\"wikipedia\", \"\")\n",
    "            try:\n",
    "                result = wikipedia.summary(query, sentences=2)\n",
    "                speak(\"According to Wikipedia:\")\n",
    "                speak(result)\n",
    "            except:\n",
    "                speak(\"Sorry, I couldn't find anything.\")\n",
    "\n",
    "        elif 'open youtube' in query:\n",
    "            speak(\"Opening YouTube...\")\n",
    "            webbrowser.open(\"https://www.youtube.com\")\n",
    "\n",
    "        elif 'open google' in query:\n",
    "            speak(\"Opening Google...\")\n",
    "            webbrowser.open(\"https://www.google.com\")\n",
    "\n",
    "        elif 'open instagram' in query:\n",
    "            speak(\"Opening Instagram...\")\n",
    "            webbrowser.open(\"https://www.instagram.com\")\n",
    "\n",
    "        elif 'open facebook' in query:\n",
    "            speak(\"Opening Facebook...\")\n",
    "            webbrowser.open(\"https://www.facebook.com\")\n",
    "\n",
    "        elif 'open spotify' in query:\n",
    "            speak(\"Opening Spotify...\")\n",
    "            webbrowser.open(\"https://open.spotify.com/\")\n",
    "\n",
    "        elif 'time' in query:\n",
    "            strTime = datetime.datetime.now().strftime(\"%H:%M:%S\")\n",
    "            speak(f\"The current time is {strTime}\")\n",
    "\n",
    "        elif 'date' in query:\n",
    "            strDate = datetime.datetime.now().strftime(\"%B %d, %Y\")\n",
    "            speak(f\"Today's date is {strDate}\")\n",
    "\n",
    "        elif 'joke' in query:\n",
    "            joke = pyjokes.get_joke()\n",
    "            speak(joke)\n",
    "\n",
    "        elif 'exit' in query or 'bye' in query:\n",
    "            speak(\"Goodbye! Have a nice day!\")\n",
    "            break\n",
    "\n",
    "        else:\n",
    "            speak(\"Sorry, I didn't understand that. Try again.\")"
   ]
  },
  {
   "cell_type": "code",
   "execution_count": 22,
   "id": "17721709-841e-4a10-bc66-1e86f52d0136",
   "metadata": {},
   "outputs": [
    {
     "name": "stdout",
     "output_type": "stream",
     "text": [
      "Assistant: Hello! Good Evening!\n",
      "Assistant: I am your voice assistant. How can I help you today?\n"
     ]
    },
    {
     "name": "stdin",
     "output_type": "stream",
     "text": [
      "You (type your command):  date\n"
     ]
    },
    {
     "name": "stdout",
     "output_type": "stream",
     "text": [
      "Assistant: Today's date is June 15, 2025\n"
     ]
    },
    {
     "name": "stdin",
     "output_type": "stream",
     "text": [
      "You (type your command):  time\n"
     ]
    },
    {
     "name": "stdout",
     "output_type": "stream",
     "text": [
      "Assistant: The current time is 19:18:15\n"
     ]
    },
    {
     "name": "stdin",
     "output_type": "stream",
     "text": [
      "You (type your command):  wikipedia\n"
     ]
    },
    {
     "name": "stdout",
     "output_type": "stream",
     "text": [
      "Assistant: Searching Wikipedia...\n",
      "Assistant: Sorry, I couldn't find anything.\n"
     ]
    },
    {
     "name": "stdin",
     "output_type": "stream",
     "text": [
      "You (type your command):  according wikipedia\n"
     ]
    },
    {
     "name": "stdout",
     "output_type": "stream",
     "text": [
      "Assistant: Searching Wikipedia...\n",
      "Assistant: According to Wikipedia:\n",
      "Assistant: \n"
     ]
    },
    {
     "name": "stdin",
     "output_type": "stream",
     "text": [
      "You (type your command):  According to Wikipedia\n"
     ]
    },
    {
     "name": "stdout",
     "output_type": "stream",
     "text": [
      "Assistant: Searching Wikipedia...\n",
      "Assistant: According to Wikipedia:\n",
      "Assistant: According to Jim is an American sitcom television series starring Jim Belushi in the title role as a suburban father of three children (and then five children, starting with the seventh season finale). It originally ran on ABC from October 3, 2001, to June 2, 2009.\n"
     ]
    },
    {
     "name": "stdin",
     "output_type": "stream",
     "text": [
      "You (type your command):  open facebook\n"
     ]
    },
    {
     "name": "stdout",
     "output_type": "stream",
     "text": [
      "Assistant: Opening Facebook...\n"
     ]
    },
    {
     "name": "stdin",
     "output_type": "stream",
     "text": [
      "You (type your command):  open instagram\n"
     ]
    },
    {
     "name": "stdout",
     "output_type": "stream",
     "text": [
      "Assistant: Opening Instagram...\n"
     ]
    },
    {
     "name": "stdin",
     "output_type": "stream",
     "text": [
      "You (type your command):  spotify\n"
     ]
    },
    {
     "name": "stdout",
     "output_type": "stream",
     "text": [
      "Assistant: Sorry, I didn't understand that. Try again.\n"
     ]
    },
    {
     "name": "stdin",
     "output_type": "stream",
     "text": [
      "You (type your command):  open spotify\n"
     ]
    },
    {
     "name": "stdout",
     "output_type": "stream",
     "text": [
      "Assistant: Opening Spotify...\n"
     ]
    },
    {
     "name": "stdin",
     "output_type": "stream",
     "text": [
      "You (type your command):  bye\n"
     ]
    },
    {
     "name": "stdout",
     "output_type": "stream",
     "text": [
      "Assistant: Goodbye! Have a nice day!\n"
     ]
    }
   ],
   "source": [
    "run_assistant()"
   ]
  },
  {
   "cell_type": "code",
   "execution_count": null,
   "id": "ee5ee486-dd2c-4534-b906-354010e6535c",
   "metadata": {},
   "outputs": [],
   "source": []
  }
 ],
 "metadata": {
  "kernelspec": {
   "display_name": "Python 3 (ipykernel)",
   "language": "python",
   "name": "python3"
  },
  "language_info": {
   "codemirror_mode": {
    "name": "ipython",
    "version": 3
   },
   "file_extension": ".py",
   "mimetype": "text/x-python",
   "name": "python",
   "nbconvert_exporter": "python",
   "pygments_lexer": "ipython3",
   "version": "3.12.7"
  }
 },
 "nbformat": 4,
 "nbformat_minor": 5
}
